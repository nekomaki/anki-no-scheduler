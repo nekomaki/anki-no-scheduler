{
 "cells": [
  {
   "cell_type": "code",
   "execution_count": 1,
   "id": "ef4a6a16",
   "metadata": {},
   "outputs": [],
   "source": [
    "import os, sys\n",
    "\n",
    "sys.path.insert(0, os.path.abspath(os.path.join(os.getcwd(), '..', 'src')))"
   ]
  },
  {
   "cell_type": "code",
   "execution_count": 2,
   "id": "92f9e343",
   "metadata": {},
   "outputs": [],
   "source": [
    "from fsrs.types import State\n",
    "from longterm_knowledge.discounted.fsrs6 import FSRS6KnowledgeDiscounted\n",
    "from longterm_knowledge.delayed.fsrs6 import FSRS6KnowledgeDelayed"
   ]
  },
  {
   "cell_type": "code",
   "execution_count": 3,
   "id": "7629d24a",
   "metadata": {},
   "outputs": [
    {
     "name": "stdout",
     "output_type": "stream",
     "text": [
      "Time taken: 7.5458 seconds\n"
     ]
    }
   ],
   "source": [
    "state = State(difficulty=10.0, stability=0.01)\n",
    "elapsed_days = 30\n",
    "\n",
    "import time\n",
    "\n",
    "tic = time.time()\n",
    "initial_state = State(difficulty=5.0, stability=0.1)\n",
    "\n",
    "for i in range(1000000):\n",
    "    fsrs = FSRS6KnowledgeDiscounted.from_list(\n",
    "        [\n",
    "            0.8457,\n",
    "            8.1627,\n",
    "            17.1531,\n",
    "            100.0000,\n",
    "            6.2004,\n",
    "            0.8907,\n",
    "            3.0530,\n",
    "            0.0282,\n",
    "            2.3039,\n",
    "            0.0302,\n",
    "            1.2036,\n",
    "            1.3832,\n",
    "            0.0883,\n",
    "            0.1358,\n",
    "            1.5999,\n",
    "            0.5648,\n",
    "            2.2040,\n",
    "            0.7055,\n",
    "            0.1141,\n",
    "            0.0916,\n",
    "            0.1000,\n",
    "        ]\n",
    "    )\n",
    "    state = initial_state\n",
    "    for step in range(10):\n",
    "        state = fsrs.simulate(state, elapsed_days)[0][1]\n",
    "        knowledge_gain = fsrs.exp_knowledge_gain_future(state, 10)\n",
    "\n",
    "toc = time.time()\n",
    "print(f\"Time taken: {toc - tic:.4f} seconds\")"
   ]
  },
  {
   "cell_type": "code",
   "execution_count": 4,
   "id": "a0d23d12",
   "metadata": {},
   "outputs": [
    {
     "name": "stdout",
     "output_type": "stream",
     "text": [
      "Time taken: 5.8763 seconds\n"
     ]
    }
   ],
   "source": [
    "state = State(difficulty=10.0, stability=0.01)\n",
    "elapsed_days = 30\n",
    "\n",
    "import time\n",
    "\n",
    "tic = time.time()\n",
    "initial_state = State(difficulty=5.0, stability=0.1)\n",
    "\n",
    "for i in range(1000000):\n",
    "    fsrs = FSRS6KnowledgeDelayed.from_list_with_due(\n",
    "        [\n",
    "            0.8457,\n",
    "            8.1627,\n",
    "            17.1531,\n",
    "            100.0000,\n",
    "            6.2004,\n",
    "            0.8907,\n",
    "            3.0530,\n",
    "            0.0282,\n",
    "            2.3039,\n",
    "            0.0302,\n",
    "            1.2036,\n",
    "            1.3832,\n",
    "            0.0883,\n",
    "            0.1358,\n",
    "            1.5999,\n",
    "            0.5648,\n",
    "            2.2040,\n",
    "            0.7055,\n",
    "            0.1141,\n",
    "            0.0916,\n",
    "            0.1000,\n",
    "        ],\n",
    "        due=100.0,\n",
    "    )\n",
    "    # print(id(fsrs))\n",
    "    state = initial_state\n",
    "    for step in range(5):\n",
    "        state = fsrs.simulate(state, elapsed_days)[0][1]\n",
    "        knowledge_gain = fsrs.exp_knowledge_gain_future(state, 10, today=step)\n",
    "\n",
    "toc = time.time()\n",
    "print(f\"Time taken: {toc - tic:.4f} seconds\")"
   ]
  }
 ],
 "metadata": {
  "kernelspec": {
   "display_name": "base",
   "language": "python",
   "name": "python3"
  },
  "language_info": {
   "codemirror_mode": {
    "name": "ipython",
    "version": 3
   },
   "file_extension": ".py",
   "mimetype": "text/x-python",
   "name": "python",
   "nbconvert_exporter": "python",
   "pygments_lexer": "ipython3",
   "version": "3.12.8"
  }
 },
 "nbformat": 4,
 "nbformat_minor": 5
}
